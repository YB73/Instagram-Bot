{
 "cells": [
  {
   "cell_type": "code",
   "execution_count": null,
   "id": "bf7bb529",
   "metadata": {},
   "outputs": [],
   "source": [
    "from time import sleep\n",
    "from selenium import webdriver\n",
    "\n",
    "browser = webdriver.Chrome('C:/Users/Moina/chromedriver_win32/chromedriver.exe')\n",
    "browser.implicitly_wait(5)\n",
    "class LoginPage:\n",
    "    def __init__(self, browser):\n",
    "        self.browser = browser\n",
    "\n",
    "    def login(self, username, password):\n",
    "        username_input = self.browser.find_element_by_css_selector(\"input[name='username']\")\n",
    "        password_input = self.browser.find_element_by_css_selector(\"input[name='password']\")\n",
    "        username_input.send_keys(username)\n",
    "        password_input.send_keys(password)\n",
    "        login_button = browser.find_element_by_xpath(\"//button[@type='submit']\")\n",
    "        login_button.click()\n",
    "        sleep(5)\n",
    "\n",
    "class HomePage:\n",
    "    def __init__(self, browser):\n",
    "        self.browser = browser\n",
    "        self.browser.get('https://www.instagram.com/')\n",
    "\n",
    "    def go_to_login_page(self):\n",
    "        self.browser.find_elements_by_xpath(\"//a[text()='Log In']\").click()\n",
    "        sleep(2)\n",
    "        return LoginPage(self.browser)\n",
    "    \n",
    "home_page = HomePage(browser)\n",
    "login_page = home_page.go_to_login_page()\n",
    "login_page.login(\"<your username>\", \"<your password>\")\n",
    "def test_login_page(browser):\n",
    "    home_page = HomePage(browser)\n",
    "    login_page = home_page.go_to_login_page()\n",
    "    login_page.login(\"<your username>\", \"<your password>\")\n",
    "\n",
    "    errors = browser.find_elements_by_css_selector('#error_message')\n",
    "    assert len(errors) == 0\n",
    "\n",
    "browser.close()"
   ]
  }
 ],
 "metadata": {
  "kernelspec": {
   "display_name": "Python 3",
   "language": "python",
   "name": "python3"
  },
  "language_info": {
   "codemirror_mode": {
    "name": "ipython",
    "version": 3
   },
   "file_extension": ".py",
   "mimetype": "text/x-python",
   "name": "python",
   "nbconvert_exporter": "python",
   "pygments_lexer": "ipython3",
   "version": "3.8.8"
  }
 },
 "nbformat": 4,
 "nbformat_minor": 5
}
