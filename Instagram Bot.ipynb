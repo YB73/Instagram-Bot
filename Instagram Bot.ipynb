{
 "cells": [
  {
   "cell_type": "code",
   "execution_count": null,
   "id": "edef47f8",
   "metadata": {},
   "outputs": [],
   "source": [
    "from time import sleep\n",
    "from selenium import webdriver\n",
    "#\n",
    "browser = webdriver.Chrome(\"C:/Users/MOINA/chromedriver_win32/chromedriver.exe\")\n",
    "#\n",
    "browser.get('https://www.instagram.com/')\n",
    "login_link = browser.find_element_by_xpath(\"//a[text()='Log In']\")\n",
    "login_link.click()\n",
    "#\n",
    "sleep(2)\n",
    "\n",
    "username_input = browser.find_element_by_css_selector(\"input[name='b.yuv.7']\")\n",
    "password_input = browser.find_element_by_css_selector(\"input[name='getthefuckinghellout#707']\")\n",
    "\n",
    "username_input.send_keys(\"b.yuv.7\")\n",
    "password_input.send_keys(\"getthefuckinghellout#707\")\n",
    "\n",
    "login_button = browser.find_element_by_xpath(\"//button[@type='submit']\")\n",
    "login_button.click()\n",
    "\n",
    "sleep(5)\n",
    "#\n",
    "browser.close()"
   ]
  },
  {
   "cell_type": "code",
   "execution_count": null,
   "id": "30542c4a",
   "metadata": {},
   "outputs": [],
   "source": []
  },
  {
   "cell_type": "code",
   "execution_count": null,
   "id": "940d19f1",
   "metadata": {},
   "outputs": [],
   "source": []
  }
 ],
 "metadata": {
  "kernelspec": {
   "display_name": "Python 3 (ipykernel)",
   "language": "python",
   "name": "python3"
  },
  "language_info": {
   "codemirror_mode": {
    "name": "ipython",
    "version": 3
   },
   "file_extension": ".py",
   "mimetype": "text/x-python",
   "name": "python",
   "nbconvert_exporter": "python",
   "pygments_lexer": "ipython3",
   "version": "3.8.8"
  }
 },
 "nbformat": 4,
 "nbformat_minor": 5
}
