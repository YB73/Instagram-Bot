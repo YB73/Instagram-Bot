{
 "cells": [
  {
   "cell_type": "code",
   "execution_count": 7,
   "id": "c912eae1",
   "metadata": {
    "scrolled": true
   },
   "outputs": [
    {
     "ename": "AttributeError",
     "evalue": "'list' object has no attribute 'click'",
     "output_type": "error",
     "traceback": [
      "\u001b[1;31m---------------------------------------------------------------------------\u001b[0m",
      "\u001b[1;31mAttributeError\u001b[0m                            Traceback (most recent call last)",
      "\u001b[1;32m<ipython-input-7-fac8c54a71cf>\u001b[0m in \u001b[0;36m<module>\u001b[1;34m\u001b[0m\n\u001b[0;32m     28\u001b[0m \u001b[1;33m\u001b[0m\u001b[0m\n\u001b[0;32m     29\u001b[0m \u001b[0mhome_page\u001b[0m \u001b[1;33m=\u001b[0m \u001b[0mHomePage\u001b[0m\u001b[1;33m(\u001b[0m\u001b[0mbrowser\u001b[0m\u001b[1;33m)\u001b[0m\u001b[1;33m\u001b[0m\u001b[1;33m\u001b[0m\u001b[0m\n\u001b[1;32m---> 30\u001b[1;33m \u001b[0mlogin_page\u001b[0m \u001b[1;33m=\u001b[0m \u001b[0mhome_page\u001b[0m\u001b[1;33m.\u001b[0m\u001b[0mgo_to_login_page\u001b[0m\u001b[1;33m(\u001b[0m\u001b[1;33m)\u001b[0m\u001b[1;33m\u001b[0m\u001b[1;33m\u001b[0m\u001b[0m\n\u001b[0m\u001b[0;32m     31\u001b[0m \u001b[0mlogin_page\u001b[0m\u001b[1;33m.\u001b[0m\u001b[0mlogin\u001b[0m\u001b[1;33m(\u001b[0m\u001b[1;34m\"b.yuv.7\"\u001b[0m\u001b[1;33m,\u001b[0m \u001b[1;34m\"getthefuckinghellout#707\"\u001b[0m\u001b[1;33m)\u001b[0m\u001b[1;33m\u001b[0m\u001b[1;33m\u001b[0m\u001b[0m\n\u001b[0;32m     32\u001b[0m \u001b[1;32mdef\u001b[0m \u001b[0mtest_login_page\u001b[0m\u001b[1;33m(\u001b[0m\u001b[0mbrowser\u001b[0m\u001b[1;33m)\u001b[0m\u001b[1;33m:\u001b[0m\u001b[1;33m\u001b[0m\u001b[1;33m\u001b[0m\u001b[0m\n",
      "\u001b[1;32m<ipython-input-7-fac8c54a71cf>\u001b[0m in \u001b[0;36mgo_to_login_page\u001b[1;34m(self)\u001b[0m\n\u001b[0;32m     23\u001b[0m \u001b[1;33m\u001b[0m\u001b[0m\n\u001b[0;32m     24\u001b[0m     \u001b[1;32mdef\u001b[0m \u001b[0mgo_to_login_page\u001b[0m\u001b[1;33m(\u001b[0m\u001b[0mself\u001b[0m\u001b[1;33m)\u001b[0m\u001b[1;33m:\u001b[0m\u001b[1;33m\u001b[0m\u001b[1;33m\u001b[0m\u001b[0m\n\u001b[1;32m---> 25\u001b[1;33m         \u001b[0mself\u001b[0m\u001b[1;33m.\u001b[0m\u001b[0mbrowser\u001b[0m\u001b[1;33m.\u001b[0m\u001b[0mfind_elements_by_xpath\u001b[0m\u001b[1;33m(\u001b[0m\u001b[1;34m\"//a[text()='Log In']\"\u001b[0m\u001b[1;33m)\u001b[0m\u001b[1;33m.\u001b[0m\u001b[0mclick\u001b[0m\u001b[1;33m(\u001b[0m\u001b[1;33m)\u001b[0m\u001b[1;33m\u001b[0m\u001b[1;33m\u001b[0m\u001b[0m\n\u001b[0m\u001b[0;32m     26\u001b[0m         \u001b[0msleep\u001b[0m\u001b[1;33m(\u001b[0m\u001b[1;36m2\u001b[0m\u001b[1;33m)\u001b[0m\u001b[1;33m\u001b[0m\u001b[1;33m\u001b[0m\u001b[0m\n\u001b[0;32m     27\u001b[0m         \u001b[1;32mreturn\u001b[0m \u001b[0mLoginPage\u001b[0m\u001b[1;33m(\u001b[0m\u001b[0mself\u001b[0m\u001b[1;33m.\u001b[0m\u001b[0mbrowser\u001b[0m\u001b[1;33m)\u001b[0m\u001b[1;33m\u001b[0m\u001b[1;33m\u001b[0m\u001b[0m\n",
      "\u001b[1;31mAttributeError\u001b[0m: 'list' object has no attribute 'click'"
     ]
    }
   ],
   "source": [
    "from time import sleep\n",
    "from selenium import webdriver\n",
    "\n",
    "browser = webdriver.Chrome('C:/Users/Moina/chromedriver_win32/chromedriver.exe')\n",
    "browser.implicitly_wait(5)\n",
    "class LoginPage:\n",
    "    def __init__(self, browser):\n",
    "        self.browser = browser\n",
    "\n",
    "    def login(self, username, password):\n",
    "        username_input = self.browser.find_element_by_css_selector(\"input[name='username']\")\n",
    "        password_input = self.browser.find_element_by_css_selector(\"input[name='password']\")\n",
    "        username_input.send_keys(username)\n",
    "        password_input.send_keys(password)\n",
    "        login_button = browser.find_element_by_xpath(\"//button[@type='submit']\")\n",
    "        login_button.click()\n",
    "        sleep(5)\n",
    "\n",
    "class HomePage:\n",
    "    def __init__(self, browser):\n",
    "        self.browser = browser\n",
    "        self.browser.get('https://www.instagram.com/')\n",
    "\n",
    "    def go_to_login_page(self):\n",
    "        self.browser.find_elements_by_xpath(\"//a[text()='Log In']\").click()\n",
    "        sleep(2)\n",
    "        return LoginPage(self.browser)\n",
    "    \n",
    "home_page = HomePage(browser)\n",
    "login_page = home_page.go_to_login_page()\n",
    "login_page.login(\"<your username>\", \"<your password>\")\n",
    "def test_login_page(browser):\n",
    "    home_page = HomePage(browser)\n",
    "    login_page = home_page.go_to_login_page()\n",
    "    login_page.login(\"<your username>\", \"<your password>\")\n",
    "\n",
    "    errors = browser.find_elements_by_css_selector('#error_message')\n",
    "    assert len(errors) == 0\n",
    "\n",
    "browser.close()"
   ]
  },
  {
   "cell_type": "code",
   "execution_count": null,
   "id": "a8fda474",
   "metadata": {},
   "outputs": [],
   "source": []
  }
 ],
 "metadata": {
  "kernelspec": {
   "display_name": "Python 3",
   "language": "python",
   "name": "python3"
  },
  "language_info": {
   "codemirror_mode": {
    "name": "ipython",
    "version": 3
   },
   "file_extension": ".py",
   "mimetype": "text/x-python",
   "name": "python",
   "nbconvert_exporter": "python",
   "pygments_lexer": "ipython3",
   "version": "3.8.8"
  }
 },
 "nbformat": 4,
 "nbformat_minor": 5
}
